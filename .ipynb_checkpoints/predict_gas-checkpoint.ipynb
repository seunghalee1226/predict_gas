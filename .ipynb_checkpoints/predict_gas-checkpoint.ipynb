{
 "cells": [
  {
   "cell_type": "code",
   "execution_count": 105,
   "id": "0001b979",
   "metadata": {
    "ExecuteTime": {
     "end_time": "2021-11-21T21:24:52.519660Z",
     "start_time": "2021-11-21T21:24:52.505650Z"
    }
   },
   "outputs": [
    {
     "ename": "ModuleNotFoundError",
     "evalue": "No module named 'xgboost'",
     "output_type": "error",
     "traceback": [
      "\u001b[1;31m---------------------------------------------------------------------------\u001b[0m",
      "\u001b[1;31mModuleNotFoundError\u001b[0m                       Traceback (most recent call last)",
      "\u001b[1;32mC:\\Users\\SEUNGH~1\\AppData\\Local\\Temp/ipykernel_1140/3012592011.py\u001b[0m in \u001b[0;36m<module>\u001b[1;34m\u001b[0m\n\u001b[0;32m     12\u001b[0m \u001b[1;32mimport\u001b[0m \u001b[0mmath\u001b[0m\u001b[1;33m\u001b[0m\u001b[1;33m\u001b[0m\u001b[0m\n\u001b[0;32m     13\u001b[0m \u001b[1;33m\u001b[0m\u001b[0m\n\u001b[1;32m---> 14\u001b[1;33m \u001b[1;32mimport\u001b[0m \u001b[0mxgboost\u001b[0m \u001b[1;32mas\u001b[0m \u001b[0mxgb\u001b[0m\u001b[1;33m\u001b[0m\u001b[1;33m\u001b[0m\u001b[0m\n\u001b[0m\u001b[0;32m     15\u001b[0m \u001b[1;32mfrom\u001b[0m \u001b[0mxgboost\u001b[0m \u001b[1;32mimport\u001b[0m \u001b[0mplot_importance\u001b[0m\u001b[1;33m,\u001b[0m \u001b[0mplot_tree\u001b[0m\u001b[1;33m\u001b[0m\u001b[1;33m\u001b[0m\u001b[0m\n\u001b[0;32m     16\u001b[0m \u001b[1;32mfrom\u001b[0m \u001b[0msklearn\u001b[0m\u001b[1;33m.\u001b[0m\u001b[0mmetrics\u001b[0m \u001b[1;32mimport\u001b[0m \u001b[0mmean_squared_error\u001b[0m\u001b[1;33m,\u001b[0m \u001b[0mmean_absolute_error\u001b[0m\u001b[1;33m\u001b[0m\u001b[1;33m\u001b[0m\u001b[0m\n",
      "\u001b[1;31mModuleNotFoundError\u001b[0m: No module named 'xgboost'"
     ]
    }
   ],
   "source": [
    "import pandas as pd\n",
    "import numpy as np\n",
    "import matplotlib.pyplot as plt\n",
    "import seaborn as sns\n",
    "from datetime import datetime, timedelta\n",
    "import qgrid\n",
    "from numpy.random import normal, seed\n",
    "\n",
    "import warnings\n",
    "warnings.filterwarnings('ignore')\n",
    "\n",
    "import math\n",
    "\n",
    "import xgboost as xgb\n",
    "from xgboost import plot_importance, plot_tree\n",
    "from sklearn.metrics import mean_squared_error, mean_absolute_error\n"
   ]
  },
  {
   "cell_type": "code",
   "execution_count": 2,
   "id": "ae71cf6a",
   "metadata": {
    "ExecuteTime": {
     "end_time": "2021-11-21T20:35:20.597960Z",
     "start_time": "2021-11-21T20:35:20.580956Z"
    }
   },
   "outputs": [],
   "source": [
    "import matplotlib\n",
    "from matplotlib import font_manager, rc\n",
    "import platform\n",
    "\n",
    "if platform.system() == 'Windows':\n",
    "    font_name = font_manager.FontProperties(fname='c:/Windows/Fonts/malgun.ttf').get_name()\n",
    "    rc('font', family=font_name)\n",
    "    \n",
    "else:\n",
    "    rc('font', family='AppleGothic')\n",
    "    \n",
    "matplotlib.rcParams['axes.unicode_minus'] = False"
   ]
  },
  {
   "cell_type": "markdown",
   "id": "8b202ce3",
   "metadata": {},
   "source": [
    "# 전처리"
   ]
  },
  {
   "cell_type": "markdown",
   "id": "70b55159",
   "metadata": {
    "ExecuteTime": {
     "end_time": "2021-11-21T20:40:56.937445Z",
     "start_time": "2021-11-21T20:40:56.922439Z"
    }
   },
   "source": [
    "## 데이터 불러오기"
   ]
  },
  {
   "cell_type": "markdown",
   "id": "b33ac012",
   "metadata": {},
   "source": [
    "### 날씨"
   ]
  },
  {
   "cell_type": "code",
   "execution_count": 57,
   "id": "384feb12",
   "metadata": {
    "ExecuteTime": {
     "end_time": "2021-11-21T20:59:50.487264Z",
     "start_time": "2021-11-21T20:59:40.312732Z"
    }
   },
   "outputs": [],
   "source": [
    "weather_2013 = pd.read_csv('./weather_20130101_20131231.csv', encoding='cp949')\n",
    "weather_2014 = pd.read_csv('./weather_20140101_20141231.csv', encoding='cp949')\n",
    "weather_2015 = pd.read_csv('./weather_20150101_20151231.csv', encoding='cp949')\n",
    "weather_2016 = pd.read_csv('./weather_20160101_20161231.csv', encoding='cp949')\n",
    "weather_2017 = pd.read_csv('./weather_20170101_20171231.csv', encoding='cp949')\n",
    "weather_2018 = pd.read_csv('./weather_20180101_20181231.csv', encoding='cp949')\n",
    "weather = pd.concat([weather_2013, weather_2014, weather_2015, weather_2016, weather_2017, weather_2018], axis=0)"
   ]
  },
  {
   "cell_type": "code",
   "execution_count": 58,
   "id": "75704590",
   "metadata": {
    "ExecuteTime": {
     "end_time": "2021-11-21T20:59:50.502861Z",
     "start_time": "2021-11-21T20:59:50.488264Z"
    }
   },
   "outputs": [
    {
     "name": "stdout",
     "output_type": "stream",
     "text": [
      "<class 'pandas.core.frame.DataFrame'>\n",
      "Int64Index: 4938688 entries, 0 to 831899\n",
      "Data columns (total 38 columns):\n",
      " #   Column         Dtype  \n",
      "---  ------         -----  \n",
      " 0   지점             int64  \n",
      " 1   지점명            object \n",
      " 2   일시             object \n",
      " 3   기온(°C)         float64\n",
      " 4   기온 QC플래그       float64\n",
      " 5   강수량(mm)        float64\n",
      " 6   강수량 QC플래그      float64\n",
      " 7   풍속(m/s)        float64\n",
      " 8   풍속 QC플래그       float64\n",
      " 9   풍향(16방위)       float64\n",
      " 10  풍향 QC플래그       float64\n",
      " 11  습도(%)          float64\n",
      " 12  습도 QC플래그       float64\n",
      " 13  증기압(hPa)       float64\n",
      " 14  이슬점온도(°C)      float64\n",
      " 15  현지기압(hPa)      float64\n",
      " 16  현지기압 QC플래그     float64\n",
      " 17  해면기압(hPa)      float64\n",
      " 18  해면기압 QC플래그     float64\n",
      " 19  일조(hr)         float64\n",
      " 20  일조 QC플래그       float64\n",
      " 21  일사(MJ/m2)      float64\n",
      " 22  일사 QC플래그       float64\n",
      " 23  적설(cm)         float64\n",
      " 24  3시간신적설(cm)     float64\n",
      " 25  전운량(10분위)      float64\n",
      " 26  중하층운량(10분위)    float64\n",
      " 27  운형(운형약어)       object \n",
      " 28  최저운고(100m )    float64\n",
      " 29  시정(10m)        float64\n",
      " 30  지면상태(지면상태코드)   float64\n",
      " 31  현상번호(국내식)      float64\n",
      " 32  지면온도(°C)       float64\n",
      " 33  지면온도 QC플래그     float64\n",
      " 34  5cm 지중온도(°C)   float64\n",
      " 35  10cm 지중온도(°C)  float64\n",
      " 36  20cm 지중온도(°C)  float64\n",
      " 37  30cm 지중온도(°C)  float64\n",
      "dtypes: float64(34), int64(1), object(3)\n",
      "memory usage: 1.4+ GB\n"
     ]
    }
   ],
   "source": [
    "weather.info()"
   ]
  },
  {
   "cell_type": "code",
   "execution_count": 59,
   "id": "36b2bcbd",
   "metadata": {
    "ExecuteTime": {
     "end_time": "2021-11-21T20:59:50.518866Z",
     "start_time": "2021-11-21T20:59:50.503862Z"
    },
    "scrolled": false
   },
   "outputs": [
    {
     "data": {
      "text/html": [
       "<div>\n",
       "<style scoped>\n",
       "    .dataframe tbody tr th:only-of-type {\n",
       "        vertical-align: middle;\n",
       "    }\n",
       "\n",
       "    .dataframe tbody tr th {\n",
       "        vertical-align: top;\n",
       "    }\n",
       "\n",
       "    .dataframe thead th {\n",
       "        text-align: right;\n",
       "    }\n",
       "</style>\n",
       "<table border=\"1\" class=\"dataframe\">\n",
       "  <thead>\n",
       "    <tr style=\"text-align: right;\">\n",
       "      <th></th>\n",
       "      <th>지점</th>\n",
       "      <th>지점명</th>\n",
       "      <th>일시</th>\n",
       "      <th>기온(°C)</th>\n",
       "      <th>기온 QC플래그</th>\n",
       "      <th>강수량(mm)</th>\n",
       "      <th>강수량 QC플래그</th>\n",
       "      <th>풍속(m/s)</th>\n",
       "      <th>풍속 QC플래그</th>\n",
       "      <th>풍향(16방위)</th>\n",
       "      <th>...</th>\n",
       "      <th>최저운고(100m )</th>\n",
       "      <th>시정(10m)</th>\n",
       "      <th>지면상태(지면상태코드)</th>\n",
       "      <th>현상번호(국내식)</th>\n",
       "      <th>지면온도(°C)</th>\n",
       "      <th>지면온도 QC플래그</th>\n",
       "      <th>5cm 지중온도(°C)</th>\n",
       "      <th>10cm 지중온도(°C)</th>\n",
       "      <th>20cm 지중온도(°C)</th>\n",
       "      <th>30cm 지중온도(°C)</th>\n",
       "    </tr>\n",
       "  </thead>\n",
       "  <tbody>\n",
       "    <tr>\n",
       "      <th>0</th>\n",
       "      <td>90</td>\n",
       "      <td>속초</td>\n",
       "      <td>2013-01-01 00:00</td>\n",
       "      <td>-4.9</td>\n",
       "      <td>0.0</td>\n",
       "      <td>NaN</td>\n",
       "      <td>NaN</td>\n",
       "      <td>6.1</td>\n",
       "      <td>0.0</td>\n",
       "      <td>250.0</td>\n",
       "      <td>...</td>\n",
       "      <td>10.0</td>\n",
       "      <td>2000.0</td>\n",
       "      <td>NaN</td>\n",
       "      <td>NaN</td>\n",
       "      <td>-4.9</td>\n",
       "      <td>0.0</td>\n",
       "      <td>NaN</td>\n",
       "      <td>NaN</td>\n",
       "      <td>NaN</td>\n",
       "      <td>NaN</td>\n",
       "    </tr>\n",
       "    <tr>\n",
       "      <th>1</th>\n",
       "      <td>90</td>\n",
       "      <td>속초</td>\n",
       "      <td>2013-01-01 01:00</td>\n",
       "      <td>-4.6</td>\n",
       "      <td>0.0</td>\n",
       "      <td>NaN</td>\n",
       "      <td>NaN</td>\n",
       "      <td>5.5</td>\n",
       "      <td>0.0</td>\n",
       "      <td>250.0</td>\n",
       "      <td>...</td>\n",
       "      <td>NaN</td>\n",
       "      <td>NaN</td>\n",
       "      <td>NaN</td>\n",
       "      <td>NaN</td>\n",
       "      <td>-4.7</td>\n",
       "      <td>0.0</td>\n",
       "      <td>NaN</td>\n",
       "      <td>NaN</td>\n",
       "      <td>NaN</td>\n",
       "      <td>NaN</td>\n",
       "    </tr>\n",
       "    <tr>\n",
       "      <th>2</th>\n",
       "      <td>90</td>\n",
       "      <td>속초</td>\n",
       "      <td>2013-01-01 02:00</td>\n",
       "      <td>-4.4</td>\n",
       "      <td>0.0</td>\n",
       "      <td>NaN</td>\n",
       "      <td>NaN</td>\n",
       "      <td>4.3</td>\n",
       "      <td>0.0</td>\n",
       "      <td>270.0</td>\n",
       "      <td>...</td>\n",
       "      <td>NaN</td>\n",
       "      <td>NaN</td>\n",
       "      <td>NaN</td>\n",
       "      <td>NaN</td>\n",
       "      <td>-4.7</td>\n",
       "      <td>0.0</td>\n",
       "      <td>NaN</td>\n",
       "      <td>NaN</td>\n",
       "      <td>NaN</td>\n",
       "      <td>NaN</td>\n",
       "    </tr>\n",
       "    <tr>\n",
       "      <th>3</th>\n",
       "      <td>90</td>\n",
       "      <td>속초</td>\n",
       "      <td>2013-01-01 03:00</td>\n",
       "      <td>-5.0</td>\n",
       "      <td>0.0</td>\n",
       "      <td>NaN</td>\n",
       "      <td>NaN</td>\n",
       "      <td>3.5</td>\n",
       "      <td>0.0</td>\n",
       "      <td>250.0</td>\n",
       "      <td>...</td>\n",
       "      <td>NaN</td>\n",
       "      <td>2000.0</td>\n",
       "      <td>4.0</td>\n",
       "      <td>NaN</td>\n",
       "      <td>-4.9</td>\n",
       "      <td>0.0</td>\n",
       "      <td>NaN</td>\n",
       "      <td>NaN</td>\n",
       "      <td>NaN</td>\n",
       "      <td>NaN</td>\n",
       "    </tr>\n",
       "    <tr>\n",
       "      <th>4</th>\n",
       "      <td>90</td>\n",
       "      <td>속초</td>\n",
       "      <td>2013-01-01 04:00</td>\n",
       "      <td>-5.9</td>\n",
       "      <td>0.0</td>\n",
       "      <td>NaN</td>\n",
       "      <td>NaN</td>\n",
       "      <td>2.7</td>\n",
       "      <td>0.0</td>\n",
       "      <td>290.0</td>\n",
       "      <td>...</td>\n",
       "      <td>NaN</td>\n",
       "      <td>2000.0</td>\n",
       "      <td>NaN</td>\n",
       "      <td>NaN</td>\n",
       "      <td>-5.6</td>\n",
       "      <td>0.0</td>\n",
       "      <td>NaN</td>\n",
       "      <td>NaN</td>\n",
       "      <td>NaN</td>\n",
       "      <td>NaN</td>\n",
       "    </tr>\n",
       "  </tbody>\n",
       "</table>\n",
       "<p>5 rows × 38 columns</p>\n",
       "</div>"
      ],
      "text/plain": [
       "   지점 지점명                일시  기온(°C)  기온 QC플래그  강수량(mm)  강수량 QC플래그  풍속(m/s)  \\\n",
       "0  90  속초  2013-01-01 00:00    -4.9       0.0      NaN        NaN      6.1   \n",
       "1  90  속초  2013-01-01 01:00    -4.6       0.0      NaN        NaN      5.5   \n",
       "2  90  속초  2013-01-01 02:00    -4.4       0.0      NaN        NaN      4.3   \n",
       "3  90  속초  2013-01-01 03:00    -5.0       0.0      NaN        NaN      3.5   \n",
       "4  90  속초  2013-01-01 04:00    -5.9       0.0      NaN        NaN      2.7   \n",
       "\n",
       "   풍속 QC플래그  풍향(16방위)  ...  최저운고(100m )  시정(10m)  지면상태(지면상태코드)  현상번호(국내식)  \\\n",
       "0       0.0     250.0  ...         10.0   2000.0           NaN        NaN   \n",
       "1       0.0     250.0  ...          NaN      NaN           NaN        NaN   \n",
       "2       0.0     270.0  ...          NaN      NaN           NaN        NaN   \n",
       "3       0.0     250.0  ...          NaN   2000.0           4.0        NaN   \n",
       "4       0.0     290.0  ...          NaN   2000.0           NaN        NaN   \n",
       "\n",
       "   지면온도(°C)  지면온도 QC플래그  5cm 지중온도(°C)  10cm 지중온도(°C)  20cm 지중온도(°C)  \\\n",
       "0      -4.9         0.0           NaN            NaN            NaN   \n",
       "1      -4.7         0.0           NaN            NaN            NaN   \n",
       "2      -4.7         0.0           NaN            NaN            NaN   \n",
       "3      -4.9         0.0           NaN            NaN            NaN   \n",
       "4      -5.6         0.0           NaN            NaN            NaN   \n",
       "\n",
       "   30cm 지중온도(°C)  \n",
       "0            NaN  \n",
       "1            NaN  \n",
       "2            NaN  \n",
       "3            NaN  \n",
       "4            NaN  \n",
       "\n",
       "[5 rows x 38 columns]"
      ]
     },
     "execution_count": 59,
     "metadata": {},
     "output_type": "execute_result"
    }
   ],
   "source": [
    "weather.head()"
   ]
  },
  {
   "cell_type": "code",
   "execution_count": 60,
   "id": "b8df4c6c",
   "metadata": {
    "ExecuteTime": {
     "end_time": "2021-11-21T20:59:52.068782Z",
     "start_time": "2021-11-21T20:59:50.519866Z"
    }
   },
   "outputs": [],
   "source": [
    "weather = weather.fillna(0)"
   ]
  },
  {
   "cell_type": "markdown",
   "id": "b220d2af",
   "metadata": {},
   "source": [
    "### 가스 공급량"
   ]
  },
  {
   "cell_type": "code",
   "execution_count": 28,
   "id": "f7edda92",
   "metadata": {
    "ExecuteTime": {
     "end_time": "2021-11-21T20:53:32.576266Z",
     "start_time": "2021-11-21T20:53:32.417703Z"
    }
   },
   "outputs": [],
   "source": [
    "data = pd.read_csv('./data.csv', encoding=\"CP949\")"
   ]
  },
  {
   "cell_type": "code",
   "execution_count": 30,
   "id": "12ada50c",
   "metadata": {
    "ExecuteTime": {
     "end_time": "2021-11-21T20:53:33.346322Z",
     "start_time": "2021-11-21T20:53:33.303313Z"
    }
   },
   "outputs": [
    {
     "name": "stdout",
     "output_type": "stream",
     "text": [
      "<class 'pandas.core.frame.DataFrame'>\n",
      "RangeIndex: 368088 entries, 0 to 368087\n",
      "Data columns (total 4 columns):\n",
      " #   Column  Non-Null Count   Dtype  \n",
      "---  ------  --------------   -----  \n",
      " 0   연월일     368088 non-null  object \n",
      " 1   시간      368088 non-null  int64  \n",
      " 2   구분      368088 non-null  object \n",
      " 3   공급량     368088 non-null  float64\n",
      "dtypes: float64(1), int64(1), object(2)\n",
      "memory usage: 11.2+ MB\n"
     ]
    }
   ],
   "source": [
    "data.info()"
   ]
  },
  {
   "cell_type": "code",
   "execution_count": 31,
   "id": "3761dd5f",
   "metadata": {
    "ExecuteTime": {
     "end_time": "2021-11-21T20:54:13.472675Z",
     "start_time": "2021-11-21T20:54:13.429675Z"
    }
   },
   "outputs": [],
   "source": [
    "data['연월일'] = pd.to_datetime(data['연월일'])"
   ]
  },
  {
   "cell_type": "code",
   "execution_count": 32,
   "id": "26510319",
   "metadata": {
    "ExecuteTime": {
     "end_time": "2021-11-21T20:54:18.849556Z",
     "start_time": "2021-11-21T20:54:13.957355Z"
    }
   },
   "outputs": [],
   "source": [
    "data['time'] = data.apply(lambda x: x['연월일'] + timedelta(hours=x['시간']), axis=1)"
   ]
  },
  {
   "cell_type": "code",
   "execution_count": 33,
   "id": "e26b07cb",
   "metadata": {
    "ExecuteTime": {
     "end_time": "2021-11-21T20:54:18.864560Z",
     "start_time": "2021-11-21T20:54:18.850557Z"
    }
   },
   "outputs": [
    {
     "data": {
      "text/html": [
       "<div>\n",
       "<style scoped>\n",
       "    .dataframe tbody tr th:only-of-type {\n",
       "        vertical-align: middle;\n",
       "    }\n",
       "\n",
       "    .dataframe tbody tr th {\n",
       "        vertical-align: top;\n",
       "    }\n",
       "\n",
       "    .dataframe thead th {\n",
       "        text-align: right;\n",
       "    }\n",
       "</style>\n",
       "<table border=\"1\" class=\"dataframe\">\n",
       "  <thead>\n",
       "    <tr style=\"text-align: right;\">\n",
       "      <th></th>\n",
       "      <th>연월일</th>\n",
       "      <th>시간</th>\n",
       "      <th>구분</th>\n",
       "      <th>공급량</th>\n",
       "      <th>time</th>\n",
       "    </tr>\n",
       "  </thead>\n",
       "  <tbody>\n",
       "    <tr>\n",
       "      <th>0</th>\n",
       "      <td>2013-01-01</td>\n",
       "      <td>1</td>\n",
       "      <td>A</td>\n",
       "      <td>2497.129</td>\n",
       "      <td>2013-01-01 01:00:00</td>\n",
       "    </tr>\n",
       "    <tr>\n",
       "      <th>1</th>\n",
       "      <td>2013-01-01</td>\n",
       "      <td>2</td>\n",
       "      <td>A</td>\n",
       "      <td>2363.265</td>\n",
       "      <td>2013-01-01 02:00:00</td>\n",
       "    </tr>\n",
       "    <tr>\n",
       "      <th>2</th>\n",
       "      <td>2013-01-01</td>\n",
       "      <td>3</td>\n",
       "      <td>A</td>\n",
       "      <td>2258.505</td>\n",
       "      <td>2013-01-01 03:00:00</td>\n",
       "    </tr>\n",
       "    <tr>\n",
       "      <th>3</th>\n",
       "      <td>2013-01-01</td>\n",
       "      <td>4</td>\n",
       "      <td>A</td>\n",
       "      <td>2243.969</td>\n",
       "      <td>2013-01-01 04:00:00</td>\n",
       "    </tr>\n",
       "    <tr>\n",
       "      <th>4</th>\n",
       "      <td>2013-01-01</td>\n",
       "      <td>5</td>\n",
       "      <td>A</td>\n",
       "      <td>2344.105</td>\n",
       "      <td>2013-01-01 05:00:00</td>\n",
       "    </tr>\n",
       "    <tr>\n",
       "      <th>...</th>\n",
       "      <td>...</td>\n",
       "      <td>...</td>\n",
       "      <td>...</td>\n",
       "      <td>...</td>\n",
       "      <td>...</td>\n",
       "    </tr>\n",
       "    <tr>\n",
       "      <th>368083</th>\n",
       "      <td>2018-12-31</td>\n",
       "      <td>20</td>\n",
       "      <td>H</td>\n",
       "      <td>681.033</td>\n",
       "      <td>2018-12-31 20:00:00</td>\n",
       "    </tr>\n",
       "    <tr>\n",
       "      <th>368084</th>\n",
       "      <td>2018-12-31</td>\n",
       "      <td>21</td>\n",
       "      <td>H</td>\n",
       "      <td>669.961</td>\n",
       "      <td>2018-12-31 21:00:00</td>\n",
       "    </tr>\n",
       "    <tr>\n",
       "      <th>368085</th>\n",
       "      <td>2018-12-31</td>\n",
       "      <td>22</td>\n",
       "      <td>H</td>\n",
       "      <td>657.941</td>\n",
       "      <td>2018-12-31 22:00:00</td>\n",
       "    </tr>\n",
       "    <tr>\n",
       "      <th>368086</th>\n",
       "      <td>2018-12-31</td>\n",
       "      <td>23</td>\n",
       "      <td>H</td>\n",
       "      <td>610.953</td>\n",
       "      <td>2018-12-31 23:00:00</td>\n",
       "    </tr>\n",
       "    <tr>\n",
       "      <th>368087</th>\n",
       "      <td>2018-12-31</td>\n",
       "      <td>24</td>\n",
       "      <td>H</td>\n",
       "      <td>560.896</td>\n",
       "      <td>2019-01-01 00:00:00</td>\n",
       "    </tr>\n",
       "  </tbody>\n",
       "</table>\n",
       "<p>368088 rows × 5 columns</p>\n",
       "</div>"
      ],
      "text/plain": [
       "              연월일  시간 구분       공급량                time\n",
       "0      2013-01-01   1  A  2497.129 2013-01-01 01:00:00\n",
       "1      2013-01-01   2  A  2363.265 2013-01-01 02:00:00\n",
       "2      2013-01-01   3  A  2258.505 2013-01-01 03:00:00\n",
       "3      2013-01-01   4  A  2243.969 2013-01-01 04:00:00\n",
       "4      2013-01-01   5  A  2344.105 2013-01-01 05:00:00\n",
       "...           ...  .. ..       ...                 ...\n",
       "368083 2018-12-31  20  H   681.033 2018-12-31 20:00:00\n",
       "368084 2018-12-31  21  H   669.961 2018-12-31 21:00:00\n",
       "368085 2018-12-31  22  H   657.941 2018-12-31 22:00:00\n",
       "368086 2018-12-31  23  H   610.953 2018-12-31 23:00:00\n",
       "368087 2018-12-31  24  H   560.896 2019-01-01 00:00:00\n",
       "\n",
       "[368088 rows x 5 columns]"
      ]
     },
     "execution_count": 33,
     "metadata": {},
     "output_type": "execute_result"
    }
   ],
   "source": [
    "data"
   ]
  },
  {
   "cell_type": "code",
   "execution_count": 34,
   "id": "52d94bda",
   "metadata": {
    "ExecuteTime": {
     "end_time": "2021-11-21T20:54:18.880807Z",
     "start_time": "2021-11-21T20:54:18.865561Z"
    }
   },
   "outputs": [],
   "source": [
    "data = data.drop(['연월일', '시간'], axis=1)"
   ]
  },
  {
   "cell_type": "code",
   "execution_count": 55,
   "id": "1595d6d5",
   "metadata": {
    "ExecuteTime": {
     "end_time": "2021-11-21T20:59:03.619062Z",
     "start_time": "2021-11-21T20:59:03.593066Z"
    },
    "scrolled": true
   },
   "outputs": [
    {
     "name": "stdout",
     "output_type": "stream",
     "text": [
      "<class 'pandas.core.frame.DataFrame'>\n",
      "RangeIndex: 368088 entries, 0 to 368087\n",
      "Data columns (total 3 columns):\n",
      " #   Column  Non-Null Count   Dtype         \n",
      "---  ------  --------------   -----         \n",
      " 0   구분      368088 non-null  object        \n",
      " 1   공급량     368088 non-null  float64       \n",
      " 2   time    368088 non-null  datetime64[ns]\n",
      "dtypes: datetime64[ns](1), float64(1), object(1)\n",
      "memory usage: 8.4+ MB\n"
     ]
    }
   ],
   "source": [
    "data.info()"
   ]
  },
  {
   "cell_type": "markdown",
   "id": "3cc70d8b",
   "metadata": {},
   "source": [
    "## 데이터 클랜징"
   ]
  },
  {
   "cell_type": "code",
   "execution_count": 61,
   "id": "40ebf9f7",
   "metadata": {
    "ExecuteTime": {
     "end_time": "2021-11-21T20:59:55.792662Z",
     "start_time": "2021-11-21T20:59:55.409019Z"
    }
   },
   "outputs": [],
   "source": [
    "weather = weather.drop(['기온 QC플래그', '강수량 QC플래그', '풍속 QC플래그', '풍향(16방위)', \n",
    "                   '풍향 QC플래그', '습도(%)', '습도 QC플래그', '증기압(hPa)', '이슬점온도(°C)',\n",
    "                   '현지기압(hPa)', '현지기압 QC플래그', '해면기압(hPa)', '해면기압 QC플래그',\n",
    "                   '일조 QC플래그', '일조(hr)', '일사 QC플래그', '3시간신적설(cm)', '전운량(10분위)',\n",
    "                   '중하층운량(10분위)', '운형(운형약어)', '최저운고(100m )', '시정(10m)',\n",
    "                   '지면상태(지면상태코드)', '현상번호(국내식)', '지면온도 QC플래그', '5cm 지중온도(°C)',\n",
    "                   '10cm 지중온도(°C)', '10cm 지중온도(°C)', '30cm 지중온도(°C)'], axis=1)"
   ]
  },
  {
   "cell_type": "code",
   "execution_count": 66,
   "id": "d2cdf3f4",
   "metadata": {
    "ExecuteTime": {
     "end_time": "2021-11-21T21:02:21.427106Z",
     "start_time": "2021-11-21T21:02:21.414103Z"
    }
   },
   "outputs": [
    {
     "name": "stdout",
     "output_type": "stream",
     "text": [
      "<class 'pandas.core.frame.DataFrame'>\n",
      "Int64Index: 52581 entries, 87593 to 105097\n",
      "Data columns (total 10 columns):\n",
      " #   Column         Non-Null Count  Dtype  \n",
      "---  ------         --------------  -----  \n",
      " 0   지점             52581 non-null  int64  \n",
      " 1   지점명            52581 non-null  object \n",
      " 2   일시             52581 non-null  object \n",
      " 3   기온(°C)         52581 non-null  float64\n",
      " 4   강수량(mm)        52581 non-null  float64\n",
      " 5   풍속(m/s)        52581 non-null  float64\n",
      " 6   일사(MJ/m2)      52581 non-null  float64\n",
      " 7   적설(cm)         52581 non-null  float64\n",
      " 8   지면온도(°C)       52581 non-null  float64\n",
      " 9   20cm 지중온도(°C)  52581 non-null  float64\n",
      "dtypes: float64(7), int64(1), object(2)\n",
      "memory usage: 4.4+ MB\n"
     ]
    }
   ],
   "source": [
    "weather.info()"
   ]
  },
  {
   "cell_type": "code",
   "execution_count": 63,
   "id": "7896daf8",
   "metadata": {
    "ExecuteTime": {
     "end_time": "2021-11-21T21:01:28.314474Z",
     "start_time": "2021-11-21T21:01:28.112426Z"
    }
   },
   "outputs": [
    {
     "data": {
      "text/plain": [
       "array(['속초', '철원', '동두천', '파주', '대관령', '춘천', '백령도', '북강릉', '강릉', '동해',\n",
       "       '서울', '인천', '원주', '울릉도', '수원', '영월', '충주', '서산', '울진', '청주', '대전',\n",
       "       '추풍령', '안동', '상주', '포항', '군산', '대구', '전주', '울산', '창원', '광주', '부산',\n",
       "       '통영', '목포', '여수', '흑산도', '완도', '고창', '순천', '진도(첨찰산)', '대구(기)',\n",
       "       '제주', '고산', '성산', '서귀포', '진주', '강화', '양평', '이천', '인제', '홍천', '태백',\n",
       "       '정선군', '제천', '보은', '천안', '보령', '부여', '금산', '부안', '임실', '정읍', '남원',\n",
       "       '장수', '고창군', '영광군', '김해시', '순창군', '북창원', '양산시', '보성군', '강진군', '장흥',\n",
       "       '해남', '고흥', '의령군', '함양군', '광양시', '봉화', '영주', '문경', '청송군', '영덕',\n",
       "       '의성', '구미', '영천', '경주시', '거창', '합천', '밀양', '산청', '거제', '남해', '진도군',\n",
       "       '관악산', '홍성', '북춘천'], dtype=object)"
      ]
     },
     "execution_count": 63,
     "metadata": {},
     "output_type": "execute_result"
    }
   ],
   "source": [
    "weather['지점명'].unique()"
   ]
  },
  {
   "cell_type": "code",
   "execution_count": 65,
   "id": "92cf102f",
   "metadata": {
    "ExecuteTime": {
     "end_time": "2021-11-21T21:02:14.783789Z",
     "start_time": "2021-11-21T21:02:14.576298Z"
    }
   },
   "outputs": [],
   "source": [
    "weather = weather[weather['지점명']=='서울']"
   ]
  },
  {
   "cell_type": "code",
   "execution_count": 29,
   "id": "ab883639",
   "metadata": {
    "ExecuteTime": {
     "end_time": "2021-11-21T20:53:32.858613Z",
     "start_time": "2021-11-21T20:53:32.830610Z"
    },
    "scrolled": false
   },
   "outputs": [
    {
     "data": {
      "text/plain": [
       "array(['A', 'B', 'C', 'D', 'E', 'G', 'H'], dtype=object)"
      ]
     },
     "execution_count": 29,
     "metadata": {},
     "output_type": "execute_result"
    }
   ],
   "source": [
    "data['구분'].unique()"
   ]
  },
  {
   "cell_type": "code",
   "execution_count": 67,
   "id": "b42bd1bd",
   "metadata": {
    "ExecuteTime": {
     "end_time": "2021-11-21T21:03:04.279883Z",
     "start_time": "2021-11-21T21:03:04.245884Z"
    }
   },
   "outputs": [],
   "source": [
    "weather['time']=pd.to_datetime(weather['일시'])"
   ]
  },
  {
   "cell_type": "code",
   "execution_count": 68,
   "id": "59865259",
   "metadata": {
    "ExecuteTime": {
     "end_time": "2021-11-21T21:03:05.077476Z",
     "start_time": "2021-11-21T21:03:05.010914Z"
    }
   },
   "outputs": [],
   "source": [
    "df = pd.DataFrame()\n",
    "df = pd.merge(data, weather, on='time')"
   ]
  },
  {
   "cell_type": "markdown",
   "id": "015efaa5",
   "metadata": {},
   "source": [
    "## 데이터 정규화"
   ]
  },
  {
   "cell_type": "code",
   "execution_count": 70,
   "id": "fa63a523",
   "metadata": {
    "ExecuteTime": {
     "end_time": "2021-11-21T21:03:45.289431Z",
     "start_time": "2021-11-21T21:03:45.223415Z"
    }
   },
   "outputs": [],
   "source": [
    "from sklearn.preprocessing import MinMaxScaler"
   ]
  },
  {
   "cell_type": "code",
   "execution_count": 71,
   "id": "303f96df",
   "metadata": {
    "ExecuteTime": {
     "end_time": "2021-11-21T21:03:48.734048Z",
     "start_time": "2021-11-21T21:03:48.700552Z"
    }
   },
   "outputs": [],
   "source": [
    "d_map = {}\n",
    "for i, d in enumerate(data['구분'].unique()):\n",
    "    d_map[d] = i\n",
    "    \n",
    "data['구분'] = data['구분'].map(d_map)"
   ]
  },
  {
   "cell_type": "code",
   "execution_count": 84,
   "id": "550aa8b6",
   "metadata": {
    "ExecuteTime": {
     "end_time": "2021-11-21T21:12:34.001825Z",
     "start_time": "2021-11-21T21:12:33.979821Z"
    }
   },
   "outputs": [],
   "source": [
    "scaler = MinMaxScaler()\n",
    "scaled_cols = ['공급량']\n",
    "data_scaled = scaler.fit_transform(df[scaled_cols])\n",
    "df['scaled_공급량'] = data_scaled"
   ]
  },
  {
   "cell_type": "markdown",
   "id": "4f75f124",
   "metadata": {},
   "source": [
    "## EDA "
   ]
  },
  {
   "cell_type": "code",
   "execution_count": 75,
   "id": "f8e7fe4c",
   "metadata": {
    "ExecuteTime": {
     "end_time": "2021-11-21T21:09:17.812488Z",
     "start_time": "2021-11-21T21:09:17.636674Z"
    }
   },
   "outputs": [],
   "source": [
    "# hour, dayofweek, quarter, month, tear, dayofyear, day, weeokofyear로 나누기\n",
    "\n",
    "df['hour'] = df['time'].dt.hour\n",
    "df['dayofweek'] = df['time'].dt.dayofweek\n",
    "df['quarter'] = df['time'].dt.quarter\n",
    "df['month'] = df['time'].dt.month\n",
    "df['year'] = df['time'].dt.year\n",
    "df['dayofyear'] = df['time'].dt.dayofyear\n",
    "df['dayofmonth'] = df['time'].dt.day\n",
    "df['weekofyear'] = df['time'].dt.weekofyear"
   ]
  },
  {
   "cell_type": "markdown",
   "id": "d9d5cf1c",
   "metadata": {},
   "source": [
    "## train, val 나누기"
   ]
  },
  {
   "cell_type": "code",
   "execution_count": 85,
   "id": "19e35888",
   "metadata": {
    "ExecuteTime": {
     "end_time": "2021-11-21T21:12:36.777228Z",
     "start_time": "2021-11-21T21:12:36.760223Z"
    }
   },
   "outputs": [],
   "source": [
    "train_year = [2013, 2014, 2015, 2016, 2017]\n",
    "val_year = [2018]"
   ]
  },
  {
   "cell_type": "code",
   "execution_count": 86,
   "id": "14f1a2c1",
   "metadata": {
    "ExecuteTime": {
     "end_time": "2021-11-21T21:12:37.391049Z",
     "start_time": "2021-11-21T21:12:37.341114Z"
    }
   },
   "outputs": [],
   "source": [
    "train = df[df['year'].isin(train_year)]\n",
    "val = df[df['year'].isin(val_year)]"
   ]
  },
  {
   "cell_type": "code",
   "execution_count": 89,
   "id": "d19f0354",
   "metadata": {
    "ExecuteTime": {
     "end_time": "2021-11-21T21:13:10.147575Z",
     "start_time": "2021-11-21T21:13:10.094563Z"
    }
   },
   "outputs": [
    {
     "name": "stdout",
     "output_type": "stream",
     "text": [
      "<class 'pandas.core.frame.DataFrame'>\n",
      "Int64Index: 306747 entries, 0 to 306746\n",
      "Data columns (total 22 columns):\n",
      " #   Column         Non-Null Count   Dtype         \n",
      "---  ------         --------------   -----         \n",
      " 0   구분             306747 non-null  object        \n",
      " 1   공급량            306747 non-null  float64       \n",
      " 2   time           306747 non-null  datetime64[ns]\n",
      " 3   지점             306747 non-null  int64         \n",
      " 4   지점명            306747 non-null  object        \n",
      " 5   일시             306747 non-null  object        \n",
      " 6   기온(°C)         306747 non-null  float64       \n",
      " 7   강수량(mm)        306747 non-null  float64       \n",
      " 8   풍속(m/s)        306747 non-null  float64       \n",
      " 9   일사(MJ/m2)      306747 non-null  float64       \n",
      " 10  적설(cm)         306747 non-null  float64       \n",
      " 11  지면온도(°C)       306747 non-null  float64       \n",
      " 12  20cm 지중온도(°C)  306747 non-null  float64       \n",
      " 13  hour           306747 non-null  int64         \n",
      " 14  dayofweek      306747 non-null  int64         \n",
      " 15  quarter        306747 non-null  int64         \n",
      " 16  month          306747 non-null  int64         \n",
      " 17  year           306747 non-null  int64         \n",
      " 18  dayofyear      306747 non-null  int64         \n",
      " 19  dayofmonth     306747 non-null  int64         \n",
      " 20  weekofyear     306747 non-null  int64         \n",
      " 21  scaled_공급량     306747 non-null  float64       \n",
      "dtypes: datetime64[ns](1), float64(9), int64(9), object(3)\n",
      "memory usage: 53.8+ MB\n"
     ]
    }
   ],
   "source": [
    "train.info()"
   ]
  },
  {
   "cell_type": "code",
   "execution_count": 97,
   "id": "fdb5be8a",
   "metadata": {
    "ExecuteTime": {
     "end_time": "2021-11-21T21:16:59.906322Z",
     "start_time": "2021-11-21T21:16:59.880308Z"
    }
   },
   "outputs": [],
   "source": [
    "train_y = train[['scaled_공급량']]\n",
    "train_x = train.drop(['scaled_공급량'], axis=1)\n",
    "\n",
    "val_y = val[['scaled_공급량']]\n",
    "val_x = val.drop(['scaled_공급량'], axis=1)"
   ]
  },
  {
   "cell_type": "code",
   "execution_count": 98,
   "id": "1160eb4a",
   "metadata": {
    "ExecuteTime": {
     "end_time": "2021-11-21T21:17:01.112363Z",
     "start_time": "2021-11-21T21:17:01.106361Z"
    }
   },
   "outputs": [
    {
     "data": {
      "text/plain": [
       "((306747, 21), (306747, 1), (61313, 21), (61313, 1))"
      ]
     },
     "execution_count": 98,
     "metadata": {},
     "output_type": "execute_result"
    }
   ],
   "source": [
    "train_x.shape, train_y.shape, val_x.shape, val_y.shape"
   ]
  },
  {
   "cell_type": "markdown",
   "id": "f3819a66",
   "metadata": {},
   "source": [
    "# EDA"
   ]
  },
  {
   "cell_type": "markdown",
   "id": "8c0b5bab",
   "metadata": {},
   "source": [
    "# 학습"
   ]
  },
  {
   "cell_type": "markdown",
   "id": "9120e892",
   "metadata": {
    "ExecuteTime": {
     "end_time": "2021-11-21T21:22:53.902617Z",
     "start_time": "2021-11-21T21:22:53.902617Z"
    }
   },
   "source": [
    "## XGboost"
   ]
  },
  {
   "cell_type": "code",
   "execution_count": null,
   "id": "fcad5767",
   "metadata": {
    "ExecuteTime": {
     "end_time": "2021-11-21T21:22:54.580986Z",
     "start_time": "2021-11-21T21:22:54.580986Z"
    }
   },
   "outputs": [],
   "source": [
    "reg = xgb.XGBRegressor(n_estimators=1000)\n",
    "reg.fit(train_x, train_y,\n",
    "        eval_set=[(train_x, train_y), (val_x, val_y)],\n",
    "        early_stopping_rounds=50,\n",
    "       verbose=False)"
   ]
  },
  {
   "cell_type": "code",
   "execution_count": null,
   "id": "2155e4d5",
   "metadata": {
    "ExecuteTime": {
     "end_time": "2021-11-21T21:22:54.581987Z",
     "start_time": "2021-11-21T21:22:54.581987Z"
    }
   },
   "outputs": [],
   "source": [
    "_ = plot_importance(reg, height=0.9)"
   ]
  },
  {
   "cell_type": "code",
   "execution_count": null,
   "id": "d4858345",
   "metadata": {},
   "outputs": [],
   "source": [
    "df['scaled_공급량'] = red.predict(val_x)\n",
    "df = pd.conca['']"
   ]
  },
  {
   "cell_type": "code",
   "execution_count": null,
   "id": "032bf50c",
   "metadata": {},
   "outputs": [],
   "source": []
  },
  {
   "cell_type": "code",
   "execution_count": null,
   "id": "2fba6c33",
   "metadata": {},
   "outputs": [],
   "source": []
  },
  {
   "cell_type": "code",
   "execution_count": null,
   "id": "d7b531d0",
   "metadata": {},
   "outputs": [],
   "source": []
  },
  {
   "cell_type": "code",
   "execution_count": null,
   "id": "7a6aacc6",
   "metadata": {},
   "outputs": [],
   "source": []
  },
  {
   "cell_type": "code",
   "execution_count": null,
   "id": "ee224a5a",
   "metadata": {},
   "outputs": [],
   "source": []
  },
  {
   "cell_type": "code",
   "execution_count": 23,
   "id": "515a5e35",
   "metadata": {
    "ExecuteTime": {
     "end_time": "2021-11-06T22:18:12.439481Z",
     "start_time": "2021-11-06T22:18:10.524791Z"
    }
   },
   "outputs": [
    {
     "ename": "AlreadyExistsError",
     "evalue": "Another metric with the same name already exists.",
     "output_type": "error",
     "traceback": [
      "\u001b[1;31m---------------------------------------------------------------------------\u001b[0m",
      "\u001b[1;31mAlreadyExistsError\u001b[0m                        Traceback (most recent call last)",
      "\u001b[1;32mC:\\Users\\SEUNGH~1\\AppData\\Local\\Temp/ipykernel_2328/3186167111.py\u001b[0m in \u001b[0;36m<module>\u001b[1;34m\u001b[0m\n\u001b[1;32m----> 1\u001b[1;33m \u001b[1;32mfrom\u001b[0m \u001b[0mkeras\u001b[0m\u001b[1;33m.\u001b[0m\u001b[0mmodels\u001b[0m \u001b[1;32mimport\u001b[0m \u001b[0mSequential\u001b[0m\u001b[1;33m\u001b[0m\u001b[1;33m\u001b[0m\u001b[0m\n\u001b[0m\u001b[0;32m      2\u001b[0m \u001b[1;32mfrom\u001b[0m \u001b[0mkeras\u001b[0m\u001b[1;33m.\u001b[0m\u001b[0mlayers\u001b[0m \u001b[1;32mimport\u001b[0m \u001b[0mDense\u001b[0m\u001b[1;33m\u001b[0m\u001b[1;33m\u001b[0m\u001b[0m\n\u001b[0;32m      3\u001b[0m \u001b[1;32mfrom\u001b[0m \u001b[0mkeras\u001b[0m\u001b[1;33m.\u001b[0m\u001b[0mcallbacks\u001b[0m \u001b[1;32mimport\u001b[0m \u001b[0mEarlyStopping\u001b[0m\u001b[1;33m,\u001b[0m \u001b[0mModelCheckpoint\u001b[0m\u001b[1;33m\u001b[0m\u001b[1;33m\u001b[0m\u001b[0m\n\u001b[0;32m      4\u001b[0m \u001b[1;32mfrom\u001b[0m \u001b[0mkeras\u001b[0m\u001b[1;33m.\u001b[0m\u001b[0mlayers\u001b[0m \u001b[1;32mimport\u001b[0m \u001b[0mLSTM\u001b[0m\u001b[1;33m\u001b[0m\u001b[1;33m\u001b[0m\u001b[0m\n\u001b[0;32m      5\u001b[0m \u001b[1;33m\u001b[0m\u001b[0m\n",
      "\u001b[1;32m~\\Anaconda3\\envs\\cv\\lib\\site-packages\\keras\\__init__.py\u001b[0m in \u001b[0;36m<module>\u001b[1;34m\u001b[0m\n\u001b[0;32m     23\u001b[0m \u001b[1;33m\u001b[0m\u001b[0m\n\u001b[0;32m     24\u001b[0m \u001b[1;31m# See b/110718070#comment18 for more details about this import.\u001b[0m\u001b[1;33m\u001b[0m\u001b[1;33m\u001b[0m\u001b[0m\n\u001b[1;32m---> 25\u001b[1;33m \u001b[1;32mfrom\u001b[0m \u001b[0mkeras\u001b[0m \u001b[1;32mimport\u001b[0m \u001b[0mmodels\u001b[0m\u001b[1;33m\u001b[0m\u001b[1;33m\u001b[0m\u001b[0m\n\u001b[0m\u001b[0;32m     26\u001b[0m \u001b[1;33m\u001b[0m\u001b[0m\n\u001b[0;32m     27\u001b[0m \u001b[1;32mfrom\u001b[0m \u001b[0mkeras\u001b[0m\u001b[1;33m.\u001b[0m\u001b[0mengine\u001b[0m\u001b[1;33m.\u001b[0m\u001b[0minput_layer\u001b[0m \u001b[1;32mimport\u001b[0m \u001b[0mInput\u001b[0m\u001b[1;33m\u001b[0m\u001b[1;33m\u001b[0m\u001b[0m\n",
      "\u001b[1;32m~\\Anaconda3\\envs\\cv\\lib\\site-packages\\keras\\models.py\u001b[0m in \u001b[0;36m<module>\u001b[1;34m\u001b[0m\n\u001b[0;32m     18\u001b[0m \u001b[1;32mimport\u001b[0m \u001b[0mtensorflow\u001b[0m\u001b[1;33m.\u001b[0m\u001b[0mcompat\u001b[0m\u001b[1;33m.\u001b[0m\u001b[0mv2\u001b[0m \u001b[1;32mas\u001b[0m \u001b[0mtf\u001b[0m\u001b[1;33m\u001b[0m\u001b[1;33m\u001b[0m\u001b[0m\n\u001b[0;32m     19\u001b[0m \u001b[1;32mfrom\u001b[0m \u001b[0mkeras\u001b[0m \u001b[1;32mimport\u001b[0m \u001b[0mbackend\u001b[0m\u001b[1;33m\u001b[0m\u001b[1;33m\u001b[0m\u001b[0m\n\u001b[1;32m---> 20\u001b[1;33m \u001b[1;32mfrom\u001b[0m \u001b[0mkeras\u001b[0m \u001b[1;32mimport\u001b[0m \u001b[0mmetrics\u001b[0m \u001b[1;32mas\u001b[0m \u001b[0mmetrics_module\u001b[0m\u001b[1;33m\u001b[0m\u001b[1;33m\u001b[0m\u001b[0m\n\u001b[0m\u001b[0;32m     21\u001b[0m \u001b[1;32mfrom\u001b[0m \u001b[0mkeras\u001b[0m \u001b[1;32mimport\u001b[0m \u001b[0moptimizer_v1\u001b[0m\u001b[1;33m\u001b[0m\u001b[1;33m\u001b[0m\u001b[0m\n\u001b[0;32m     22\u001b[0m \u001b[1;32mfrom\u001b[0m \u001b[0mkeras\u001b[0m\u001b[1;33m.\u001b[0m\u001b[0mengine\u001b[0m \u001b[1;32mimport\u001b[0m \u001b[0mfunctional\u001b[0m\u001b[1;33m\u001b[0m\u001b[1;33m\u001b[0m\u001b[0m\n",
      "\u001b[1;32m~\\Anaconda3\\envs\\cv\\lib\\site-packages\\keras\\metrics.py\u001b[0m in \u001b[0;36m<module>\u001b[1;34m\u001b[0m\n\u001b[0;32m     24\u001b[0m \u001b[1;33m\u001b[0m\u001b[0m\n\u001b[0;32m     25\u001b[0m \u001b[1;32mimport\u001b[0m \u001b[0mnumpy\u001b[0m \u001b[1;32mas\u001b[0m \u001b[0mnp\u001b[0m\u001b[1;33m\u001b[0m\u001b[1;33m\u001b[0m\u001b[0m\n\u001b[1;32m---> 26\u001b[1;33m \u001b[1;32mfrom\u001b[0m \u001b[0mkeras\u001b[0m \u001b[1;32mimport\u001b[0m \u001b[0mactivations\u001b[0m\u001b[1;33m\u001b[0m\u001b[1;33m\u001b[0m\u001b[0m\n\u001b[0m\u001b[0;32m     27\u001b[0m \u001b[1;32mfrom\u001b[0m \u001b[0mkeras\u001b[0m \u001b[1;32mimport\u001b[0m \u001b[0mbackend\u001b[0m\u001b[1;33m\u001b[0m\u001b[1;33m\u001b[0m\u001b[0m\n\u001b[0;32m     28\u001b[0m \u001b[1;32mfrom\u001b[0m \u001b[0mkeras\u001b[0m\u001b[1;33m.\u001b[0m\u001b[0mengine\u001b[0m \u001b[1;32mimport\u001b[0m \u001b[0mbase_layer\u001b[0m\u001b[1;33m\u001b[0m\u001b[1;33m\u001b[0m\u001b[0m\n",
      "\u001b[1;32m~\\Anaconda3\\envs\\cv\\lib\\site-packages\\keras\\activations.py\u001b[0m in \u001b[0;36m<module>\u001b[1;34m\u001b[0m\n\u001b[0;32m     18\u001b[0m \u001b[1;33m\u001b[0m\u001b[0m\n\u001b[0;32m     19\u001b[0m \u001b[1;32mfrom\u001b[0m \u001b[0mkeras\u001b[0m \u001b[1;32mimport\u001b[0m \u001b[0mbackend\u001b[0m\u001b[1;33m\u001b[0m\u001b[1;33m\u001b[0m\u001b[0m\n\u001b[1;32m---> 20\u001b[1;33m \u001b[1;32mfrom\u001b[0m \u001b[0mkeras\u001b[0m\u001b[1;33m.\u001b[0m\u001b[0mlayers\u001b[0m \u001b[1;32mimport\u001b[0m \u001b[0madvanced_activations\u001b[0m\u001b[1;33m\u001b[0m\u001b[1;33m\u001b[0m\u001b[0m\n\u001b[0m\u001b[0;32m     21\u001b[0m \u001b[1;32mfrom\u001b[0m \u001b[0mkeras\u001b[0m\u001b[1;33m.\u001b[0m\u001b[0mutils\u001b[0m\u001b[1;33m.\u001b[0m\u001b[0mgeneric_utils\u001b[0m \u001b[1;32mimport\u001b[0m \u001b[0mdeserialize_keras_object\u001b[0m\u001b[1;33m\u001b[0m\u001b[1;33m\u001b[0m\u001b[0m\n\u001b[0;32m     22\u001b[0m \u001b[1;32mfrom\u001b[0m \u001b[0mkeras\u001b[0m\u001b[1;33m.\u001b[0m\u001b[0mutils\u001b[0m\u001b[1;33m.\u001b[0m\u001b[0mgeneric_utils\u001b[0m \u001b[1;32mimport\u001b[0m \u001b[0mserialize_keras_object\u001b[0m\u001b[1;33m\u001b[0m\u001b[1;33m\u001b[0m\u001b[0m\n",
      "\u001b[1;32m~\\Anaconda3\\envs\\cv\\lib\\site-packages\\keras\\layers\\__init__.py\u001b[0m in \u001b[0;36m<module>\u001b[1;34m\u001b[0m\n\u001b[0;32m     21\u001b[0m \u001b[1;33m\u001b[0m\u001b[0m\n\u001b[0;32m     22\u001b[0m \u001b[1;31m# Generic layers.\u001b[0m\u001b[1;33m\u001b[0m\u001b[1;33m\u001b[0m\u001b[0m\n\u001b[1;32m---> 23\u001b[1;33m \u001b[1;32mfrom\u001b[0m \u001b[0mkeras\u001b[0m\u001b[1;33m.\u001b[0m\u001b[0mengine\u001b[0m\u001b[1;33m.\u001b[0m\u001b[0minput_layer\u001b[0m \u001b[1;32mimport\u001b[0m \u001b[0mInput\u001b[0m\u001b[1;33m\u001b[0m\u001b[1;33m\u001b[0m\u001b[0m\n\u001b[0m\u001b[0;32m     24\u001b[0m \u001b[1;32mfrom\u001b[0m \u001b[0mkeras\u001b[0m\u001b[1;33m.\u001b[0m\u001b[0mengine\u001b[0m\u001b[1;33m.\u001b[0m\u001b[0minput_layer\u001b[0m \u001b[1;32mimport\u001b[0m \u001b[0mInputLayer\u001b[0m\u001b[1;33m\u001b[0m\u001b[1;33m\u001b[0m\u001b[0m\n\u001b[0;32m     25\u001b[0m \u001b[1;32mfrom\u001b[0m \u001b[0mkeras\u001b[0m\u001b[1;33m.\u001b[0m\u001b[0mengine\u001b[0m\u001b[1;33m.\u001b[0m\u001b[0minput_spec\u001b[0m \u001b[1;32mimport\u001b[0m \u001b[0mInputSpec\u001b[0m\u001b[1;33m\u001b[0m\u001b[1;33m\u001b[0m\u001b[0m\n",
      "\u001b[1;32m~\\Anaconda3\\envs\\cv\\lib\\site-packages\\keras\\engine\\input_layer.py\u001b[0m in \u001b[0;36m<module>\u001b[1;34m\u001b[0m\n\u001b[0;32m     19\u001b[0m \u001b[1;32mfrom\u001b[0m \u001b[0mkeras\u001b[0m \u001b[1;32mimport\u001b[0m \u001b[0mbackend\u001b[0m\u001b[1;33m\u001b[0m\u001b[1;33m\u001b[0m\u001b[0m\n\u001b[0;32m     20\u001b[0m \u001b[1;32mfrom\u001b[0m \u001b[0mkeras\u001b[0m\u001b[1;33m.\u001b[0m\u001b[0mdistribute\u001b[0m \u001b[1;32mimport\u001b[0m \u001b[0mdistributed_training_utils\u001b[0m\u001b[1;33m\u001b[0m\u001b[1;33m\u001b[0m\u001b[0m\n\u001b[1;32m---> 21\u001b[1;33m \u001b[1;32mfrom\u001b[0m \u001b[0mkeras\u001b[0m\u001b[1;33m.\u001b[0m\u001b[0mengine\u001b[0m \u001b[1;32mimport\u001b[0m \u001b[0mbase_layer\u001b[0m\u001b[1;33m\u001b[0m\u001b[1;33m\u001b[0m\u001b[0m\n\u001b[0m\u001b[0;32m     22\u001b[0m \u001b[1;32mfrom\u001b[0m \u001b[0mkeras\u001b[0m\u001b[1;33m.\u001b[0m\u001b[0mengine\u001b[0m \u001b[1;32mimport\u001b[0m \u001b[0mkeras_tensor\u001b[0m\u001b[1;33m\u001b[0m\u001b[1;33m\u001b[0m\u001b[0m\n\u001b[0;32m     23\u001b[0m \u001b[1;32mfrom\u001b[0m \u001b[0mkeras\u001b[0m\u001b[1;33m.\u001b[0m\u001b[0mengine\u001b[0m \u001b[1;32mimport\u001b[0m \u001b[0mnode\u001b[0m \u001b[1;32mas\u001b[0m \u001b[0mnode_module\u001b[0m\u001b[1;33m\u001b[0m\u001b[1;33m\u001b[0m\u001b[0m\n",
      "\u001b[1;32m~\\Anaconda3\\envs\\cv\\lib\\site-packages\\keras\\engine\\base_layer.py\u001b[0m in \u001b[0;36m<module>\u001b[1;34m\u001b[0m\n\u001b[0;32m     41\u001b[0m \u001b[1;32mfrom\u001b[0m \u001b[0mkeras\u001b[0m\u001b[1;33m.\u001b[0m\u001b[0mengine\u001b[0m \u001b[1;32mimport\u001b[0m \u001b[0mnode\u001b[0m \u001b[1;32mas\u001b[0m \u001b[0mnode_module\u001b[0m\u001b[1;33m\u001b[0m\u001b[1;33m\u001b[0m\u001b[0m\n\u001b[0;32m     42\u001b[0m \u001b[1;32mfrom\u001b[0m \u001b[0mkeras\u001b[0m\u001b[1;33m.\u001b[0m\u001b[0mmixed_precision\u001b[0m \u001b[1;32mimport\u001b[0m \u001b[0mautocast_variable\u001b[0m\u001b[1;33m\u001b[0m\u001b[1;33m\u001b[0m\u001b[0m\n\u001b[1;32m---> 43\u001b[1;33m \u001b[1;32mfrom\u001b[0m \u001b[0mkeras\u001b[0m\u001b[1;33m.\u001b[0m\u001b[0mmixed_precision\u001b[0m \u001b[1;32mimport\u001b[0m \u001b[0mloss_scale_optimizer\u001b[0m\u001b[1;33m\u001b[0m\u001b[1;33m\u001b[0m\u001b[0m\n\u001b[0m\u001b[0;32m     44\u001b[0m \u001b[1;32mfrom\u001b[0m \u001b[0mkeras\u001b[0m\u001b[1;33m.\u001b[0m\u001b[0mmixed_precision\u001b[0m \u001b[1;32mimport\u001b[0m \u001b[0mpolicy\u001b[0m\u001b[1;33m\u001b[0m\u001b[1;33m\u001b[0m\u001b[0m\n\u001b[0;32m     45\u001b[0m \u001b[1;32mfrom\u001b[0m \u001b[0mkeras\u001b[0m\u001b[1;33m.\u001b[0m\u001b[0msaving\u001b[0m\u001b[1;33m.\u001b[0m\u001b[0msaved_model\u001b[0m \u001b[1;32mimport\u001b[0m \u001b[0mlayer_serialization\u001b[0m\u001b[1;33m\u001b[0m\u001b[1;33m\u001b[0m\u001b[0m\n",
      "\u001b[1;32m~\\Anaconda3\\envs\\cv\\lib\\site-packages\\keras\\mixed_precision\\loss_scale_optimizer.py\u001b[0m in \u001b[0;36m<module>\u001b[1;34m\u001b[0m\n\u001b[0;32m     16\u001b[0m \u001b[1;33m\u001b[0m\u001b[0m\n\u001b[0;32m     17\u001b[0m \u001b[1;32mfrom\u001b[0m \u001b[0mkeras\u001b[0m \u001b[1;32mimport\u001b[0m \u001b[0mbackend\u001b[0m\u001b[1;33m\u001b[0m\u001b[1;33m\u001b[0m\u001b[0m\n\u001b[1;32m---> 18\u001b[1;33m \u001b[1;32mfrom\u001b[0m \u001b[0mkeras\u001b[0m \u001b[1;32mimport\u001b[0m \u001b[0moptimizers\u001b[0m\u001b[1;33m\u001b[0m\u001b[1;33m\u001b[0m\u001b[0m\n\u001b[0m\u001b[0;32m     19\u001b[0m \u001b[1;32mfrom\u001b[0m \u001b[0mkeras\u001b[0m\u001b[1;33m.\u001b[0m\u001b[0mmixed_precision\u001b[0m \u001b[1;32mimport\u001b[0m \u001b[0mloss_scale\u001b[0m \u001b[1;32mas\u001b[0m \u001b[0mkeras_loss_scale_module\u001b[0m\u001b[1;33m\u001b[0m\u001b[1;33m\u001b[0m\u001b[0m\n\u001b[0;32m     20\u001b[0m \u001b[1;32mfrom\u001b[0m \u001b[0mkeras\u001b[0m\u001b[1;33m.\u001b[0m\u001b[0moptimizer_v2\u001b[0m \u001b[1;32mimport\u001b[0m \u001b[0moptimizer_v2\u001b[0m\u001b[1;33m\u001b[0m\u001b[1;33m\u001b[0m\u001b[0m\n",
      "\u001b[1;32m~\\Anaconda3\\envs\\cv\\lib\\site-packages\\keras\\optimizers.py\u001b[0m in \u001b[0;36m<module>\u001b[1;34m\u001b[0m\n\u001b[0;32m     24\u001b[0m \u001b[1;32mfrom\u001b[0m \u001b[0mkeras\u001b[0m\u001b[1;33m.\u001b[0m\u001b[0moptimizer_v1\u001b[0m \u001b[1;32mimport\u001b[0m \u001b[0mOptimizer\u001b[0m\u001b[1;33m\u001b[0m\u001b[1;33m\u001b[0m\u001b[0m\n\u001b[0;32m     25\u001b[0m \u001b[1;32mfrom\u001b[0m \u001b[0mkeras\u001b[0m\u001b[1;33m.\u001b[0m\u001b[0moptimizer_v1\u001b[0m \u001b[1;32mimport\u001b[0m \u001b[0mTFOptimizer\u001b[0m\u001b[1;33m\u001b[0m\u001b[1;33m\u001b[0m\u001b[0m\n\u001b[1;32m---> 26\u001b[1;33m \u001b[1;32mfrom\u001b[0m \u001b[0mkeras\u001b[0m\u001b[1;33m.\u001b[0m\u001b[0moptimizer_v2\u001b[0m \u001b[1;32mimport\u001b[0m \u001b[0madadelta\u001b[0m \u001b[1;32mas\u001b[0m \u001b[0madadelta_v2\u001b[0m\u001b[1;33m\u001b[0m\u001b[1;33m\u001b[0m\u001b[0m\n\u001b[0m\u001b[0;32m     27\u001b[0m \u001b[1;32mfrom\u001b[0m \u001b[0mkeras\u001b[0m\u001b[1;33m.\u001b[0m\u001b[0moptimizer_v2\u001b[0m \u001b[1;32mimport\u001b[0m \u001b[0madagrad\u001b[0m \u001b[1;32mas\u001b[0m \u001b[0madagrad_v2\u001b[0m\u001b[1;33m\u001b[0m\u001b[1;33m\u001b[0m\u001b[0m\n\u001b[0;32m     28\u001b[0m \u001b[1;32mfrom\u001b[0m \u001b[0mkeras\u001b[0m\u001b[1;33m.\u001b[0m\u001b[0moptimizer_v2\u001b[0m \u001b[1;32mimport\u001b[0m \u001b[0madam\u001b[0m \u001b[1;32mas\u001b[0m \u001b[0madam_v2\u001b[0m\u001b[1;33m\u001b[0m\u001b[1;33m\u001b[0m\u001b[0m\n",
      "\u001b[1;32m~\\Anaconda3\\envs\\cv\\lib\\site-packages\\keras\\optimizer_v2\\adadelta.py\u001b[0m in \u001b[0;36m<module>\u001b[1;34m\u001b[0m\n\u001b[0;32m     20\u001b[0m \u001b[1;32mimport\u001b[0m \u001b[0mnumpy\u001b[0m \u001b[1;32mas\u001b[0m \u001b[0mnp\u001b[0m\u001b[1;33m\u001b[0m\u001b[1;33m\u001b[0m\u001b[0m\n\u001b[0;32m     21\u001b[0m \u001b[1;32mfrom\u001b[0m \u001b[0mkeras\u001b[0m \u001b[1;32mimport\u001b[0m \u001b[0mbackend_config\u001b[0m\u001b[1;33m\u001b[0m\u001b[1;33m\u001b[0m\u001b[0m\n\u001b[1;32m---> 22\u001b[1;33m \u001b[1;32mfrom\u001b[0m \u001b[0mkeras\u001b[0m\u001b[1;33m.\u001b[0m\u001b[0moptimizer_v2\u001b[0m \u001b[1;32mimport\u001b[0m \u001b[0moptimizer_v2\u001b[0m\u001b[1;33m\u001b[0m\u001b[1;33m\u001b[0m\u001b[0m\n\u001b[0m\u001b[0;32m     23\u001b[0m \u001b[1;32mfrom\u001b[0m \u001b[0mtensorflow\u001b[0m\u001b[1;33m.\u001b[0m\u001b[0mpython\u001b[0m\u001b[1;33m.\u001b[0m\u001b[0mutil\u001b[0m\u001b[1;33m.\u001b[0m\u001b[0mtf_export\u001b[0m \u001b[1;32mimport\u001b[0m \u001b[0mkeras_export\u001b[0m\u001b[1;33m\u001b[0m\u001b[1;33m\u001b[0m\u001b[0m\n\u001b[0;32m     24\u001b[0m \u001b[1;33m\u001b[0m\u001b[0m\n",
      "\u001b[1;32m~\\Anaconda3\\envs\\cv\\lib\\site-packages\\keras\\optimizer_v2\\optimizer_v2.py\u001b[0m in \u001b[0;36m<module>\u001b[1;34m\u001b[0m\n\u001b[0;32m     34\u001b[0m \u001b[1;33m\u001b[0m\u001b[0m\n\u001b[0;32m     35\u001b[0m \u001b[1;33m\u001b[0m\u001b[0m\n\u001b[1;32m---> 36\u001b[1;33m keras_optimizers_gauge = tf.__internal__.monitoring.BoolGauge(\n\u001b[0m\u001b[0;32m     37\u001b[0m     \"/tensorflow/api/keras/optimizers\", \"keras optimizer usage\", \"method\")\n\u001b[0;32m     38\u001b[0m \u001b[1;33m\u001b[0m\u001b[0m\n",
      "\u001b[1;32m~\\Anaconda3\\envs\\cv\\lib\\site-packages\\tensorflow\\python\\eager\\monitoring.py\u001b[0m in \u001b[0;36m__init__\u001b[1;34m(self, name, description, *labels)\u001b[0m\n\u001b[0;32m    358\u001b[0m       \u001b[1;33m*\u001b[0m\u001b[0mlabels\u001b[0m\u001b[1;33m:\u001b[0m \u001b[0mThe\u001b[0m \u001b[0mlabel\u001b[0m \u001b[0mlist\u001b[0m \u001b[0mof\u001b[0m \u001b[0mthe\u001b[0m \u001b[0mnew\u001b[0m \u001b[0mmetric\u001b[0m\u001b[1;33m.\u001b[0m\u001b[1;33m\u001b[0m\u001b[1;33m\u001b[0m\u001b[0m\n\u001b[0;32m    359\u001b[0m     \"\"\"\n\u001b[1;32m--> 360\u001b[1;33m     super(BoolGauge, self).__init__('BoolGauge', _bool_gauge_methods,\n\u001b[0m\u001b[0;32m    361\u001b[0m                                     len(labels), name, description, *labels)\n\u001b[0;32m    362\u001b[0m \u001b[1;33m\u001b[0m\u001b[0m\n",
      "\u001b[1;32m~\\Anaconda3\\envs\\cv\\lib\\site-packages\\tensorflow\\python\\eager\\monitoring.py\u001b[0m in \u001b[0;36m__init__\u001b[1;34m(self, metric_name, metric_methods, label_length, *args)\u001b[0m\n\u001b[0;32m    133\u001b[0m           self._metric_name, len(self._metric_methods)))\n\u001b[0;32m    134\u001b[0m \u001b[1;33m\u001b[0m\u001b[0m\n\u001b[1;32m--> 135\u001b[1;33m     \u001b[0mself\u001b[0m\u001b[1;33m.\u001b[0m\u001b[0m_metric\u001b[0m \u001b[1;33m=\u001b[0m \u001b[0mself\u001b[0m\u001b[1;33m.\u001b[0m\u001b[0m_metric_methods\u001b[0m\u001b[1;33m[\u001b[0m\u001b[0mself\u001b[0m\u001b[1;33m.\u001b[0m\u001b[0m_label_length\u001b[0m\u001b[1;33m]\u001b[0m\u001b[1;33m.\u001b[0m\u001b[0mcreate\u001b[0m\u001b[1;33m(\u001b[0m\u001b[1;33m*\u001b[0m\u001b[0margs\u001b[0m\u001b[1;33m)\u001b[0m\u001b[1;33m\u001b[0m\u001b[1;33m\u001b[0m\u001b[0m\n\u001b[0m\u001b[0;32m    136\u001b[0m \u001b[1;33m\u001b[0m\u001b[0m\n\u001b[0;32m    137\u001b[0m   \u001b[1;32mdef\u001b[0m \u001b[0m__del__\u001b[0m\u001b[1;33m(\u001b[0m\u001b[0mself\u001b[0m\u001b[1;33m)\u001b[0m\u001b[1;33m:\u001b[0m\u001b[1;33m\u001b[0m\u001b[1;33m\u001b[0m\u001b[0m\n",
      "\u001b[1;31mAlreadyExistsError\u001b[0m: Another metric with the same name already exists."
     ]
    }
   ],
   "source": [
    "import tensorflow as tf\n",
    "from tensorflow.keras.layers import Dense, Conv1D, LSTM, Input, TimeDistributed\n",
    "from tensorflow.keras.models import Model\n",
    "\n",
    "\n",
    "from keras.models import Sequential\n",
    "from keras.layers import Dense\n",
    "from keras.callbacks import EarlyStopping, ModelCheckpoint\n",
    "from keras.layers import LSTM\n",
    "\n",
    "model = Sequentail()\n",
    "model.add(LSTM(16,\n",
    "              input_shape=(train_x.shape[1], train_x.shape[2]),\n",
    "              activation='relu',\n",
    "              return_squences=False)\n",
    "         )\n",
    "model.add(Dense(1))"
   ]
  },
  {
   "cell_type": "code",
   "execution_count": 134,
   "id": "78787197",
   "metadata": {
    "ExecuteTime": {
     "end_time": "2021-10-24T01:22:17.004379Z",
     "start_time": "2021-10-24T01:22:16.750921Z"
    }
   },
   "outputs": [],
   "source": [
    "import lightgbm as lgb"
   ]
  },
  {
   "cell_type": "code",
   "execution_count": 135,
   "id": "5525f246",
   "metadata": {
    "ExecuteTime": {
     "end_time": "2021-10-24T01:22:17.020379Z",
     "start_time": "2021-10-24T01:22:17.005382Z"
    }
   },
   "outputs": [],
   "source": [
    "d_train = lgb.Dataset(train_x, train_y)\n",
    "d_val = lgb.Dataset(val_x, val_y)\n",
    "\n",
    "params = {\n",
    "    'objective':'regression',\n",
    "    'metric':'mae',\n",
    "    'seed':42\n",
    "}\n"
   ]
  },
  {
   "cell_type": "code",
   "execution_count": 136,
   "id": "81472e01",
   "metadata": {
    "ExecuteTime": {
     "end_time": "2021-10-24T01:22:17.418379Z",
     "start_time": "2021-10-24T01:22:17.021380Z"
    }
   },
   "outputs": [
    {
     "name": "stderr",
     "output_type": "stream",
     "text": [
      "C:\\Users\\SeunghaLee\\.conda\\envs\\data\\lib\\site-packages\\lightgbm\\engine.py:181: UserWarning: 'early_stopping_rounds' argument is deprecated and will be removed in a future release of LightGBM. Pass 'early_stopping()' callback via 'callbacks' argument instead.\n",
      "  _log_warning(\"'early_stopping_rounds' argument is deprecated and will be removed in a future release of LightGBM. \"\n",
      "C:\\Users\\SeunghaLee\\.conda\\envs\\data\\lib\\site-packages\\lightgbm\\engine.py:240: UserWarning: 'verbose_eval' argument is deprecated and will be removed in a future release of LightGBM. Pass 'log_evaluation()' callback via 'callbacks' argument instead.\n",
      "  _log_warning(\"'verbose_eval' argument is deprecated and will be removed in a future release of LightGBM. \"\n"
     ]
    },
    {
     "name": "stdout",
     "output_type": "stream",
     "text": [
      "[LightGBM] [Warning] Auto-choosing row-wise multi-threading, the overhead of testing was 0.001467 seconds.\n",
      "You can set `force_row_wise=true` to remove the overhead.\n",
      "And if memory is not enough, you can set `force_col_wise=true`.\n",
      "[LightGBM] [Info] Total Bins 84\n",
      "[LightGBM] [Info] Number of data points in the train set: 306768, number of used features: 5\n",
      "[LightGBM] [Info] Start training from score 934.864036\n",
      "Training until validation scores don't improve for 10 rounds\n",
      "[20]\tvalid_0's l1: 244.857\n",
      "[40]\tvalid_0's l1: 174.855\n",
      "[60]\tvalid_0's l1: 158.739\n",
      "[80]\tvalid_0's l1: 153.323\n",
      "[100]\tvalid_0's l1: 150.948\n",
      "[120]\tvalid_0's l1: 150.463\n",
      "Early stopping, best iteration is:\n",
      "[112]\tvalid_0's l1: 150.297\n"
     ]
    }
   ],
   "source": [
    "model = lgb.train(params, d_train, 500, d_val, verbose_eval=20, early_stopping_rounds=10)"
   ]
  },
  {
   "cell_type": "markdown",
   "id": "ea7c9c27",
   "metadata": {},
   "source": [
    "# 추론 및 결과 제출"
   ]
  },
  {
   "cell_type": "code",
   "execution_count": 22,
   "id": "dc6fe7a4",
   "metadata": {
    "ExecuteTime": {
     "end_time": "2021-10-21T15:17:15.762627Z",
     "start_time": "2021-10-21T15:17:15.708176Z"
    }
   },
   "outputs": [],
   "source": [
    "test = pd.read_csv('./test.csv')\n",
    "submission = pd.read_csv('./sample_submission.csv')"
   ]
  },
  {
   "cell_type": "code",
   "execution_count": 23,
   "id": "3f5b743a",
   "metadata": {
    "ExecuteTime": {
     "end_time": "2021-10-21T15:17:18.513061Z",
     "start_time": "2021-10-21T15:17:18.502060Z"
    }
   },
   "outputs": [
    {
     "data": {
      "text/html": [
       "<div>\n",
       "<style scoped>\n",
       "    .dataframe tbody tr th:only-of-type {\n",
       "        vertical-align: middle;\n",
       "    }\n",
       "\n",
       "    .dataframe tbody tr th {\n",
       "        vertical-align: top;\n",
       "    }\n",
       "\n",
       "    .dataframe thead th {\n",
       "        text-align: right;\n",
       "    }\n",
       "</style>\n",
       "<table border=\"1\" class=\"dataframe\">\n",
       "  <thead>\n",
       "    <tr style=\"text-align: right;\">\n",
       "      <th></th>\n",
       "      <th>일자|시간|구분</th>\n",
       "    </tr>\n",
       "  </thead>\n",
       "  <tbody>\n",
       "    <tr>\n",
       "      <th>0</th>\n",
       "      <td>2019-01-01 01 A</td>\n",
       "    </tr>\n",
       "    <tr>\n",
       "      <th>1</th>\n",
       "      <td>2019-01-01 02 A</td>\n",
       "    </tr>\n",
       "    <tr>\n",
       "      <th>2</th>\n",
       "      <td>2019-01-01 03 A</td>\n",
       "    </tr>\n",
       "    <tr>\n",
       "      <th>3</th>\n",
       "      <td>2019-01-01 04 A</td>\n",
       "    </tr>\n",
       "    <tr>\n",
       "      <th>4</th>\n",
       "      <td>2019-01-01 05 A</td>\n",
       "    </tr>\n",
       "  </tbody>\n",
       "</table>\n",
       "</div>"
      ],
      "text/plain": [
       "          일자|시간|구분\n",
       "0  2019-01-01 01 A\n",
       "1  2019-01-01 02 A\n",
       "2  2019-01-01 03 A\n",
       "3  2019-01-01 04 A\n",
       "4  2019-01-01 05 A"
      ]
     },
     "execution_count": 23,
     "metadata": {},
     "output_type": "execute_result"
    }
   ],
   "source": [
    "test.head()"
   ]
  },
  {
   "cell_type": "code",
   "execution_count": 24,
   "id": "64dcc2f9",
   "metadata": {
    "ExecuteTime": {
     "end_time": "2021-10-21T15:17:24.485449Z",
     "start_time": "2021-10-21T15:17:24.478431Z"
    }
   },
   "outputs": [
    {
     "data": {
      "text/html": [
       "<div>\n",
       "<style scoped>\n",
       "    .dataframe tbody tr th:only-of-type {\n",
       "        vertical-align: middle;\n",
       "    }\n",
       "\n",
       "    .dataframe tbody tr th {\n",
       "        vertical-align: top;\n",
       "    }\n",
       "\n",
       "    .dataframe thead th {\n",
       "        text-align: right;\n",
       "    }\n",
       "</style>\n",
       "<table border=\"1\" class=\"dataframe\">\n",
       "  <thead>\n",
       "    <tr style=\"text-align: right;\">\n",
       "      <th></th>\n",
       "      <th>일자|시간|구분</th>\n",
       "      <th>공급량</th>\n",
       "    </tr>\n",
       "  </thead>\n",
       "  <tbody>\n",
       "    <tr>\n",
       "      <th>0</th>\n",
       "      <td>2019-01-01 01 A</td>\n",
       "      <td>0</td>\n",
       "    </tr>\n",
       "    <tr>\n",
       "      <th>1</th>\n",
       "      <td>2019-01-01 02 A</td>\n",
       "      <td>0</td>\n",
       "    </tr>\n",
       "    <tr>\n",
       "      <th>2</th>\n",
       "      <td>2019-01-01 03 A</td>\n",
       "      <td>0</td>\n",
       "    </tr>\n",
       "    <tr>\n",
       "      <th>3</th>\n",
       "      <td>2019-01-01 04 A</td>\n",
       "      <td>0</td>\n",
       "    </tr>\n",
       "    <tr>\n",
       "      <th>4</th>\n",
       "      <td>2019-01-01 05 A</td>\n",
       "      <td>0</td>\n",
       "    </tr>\n",
       "  </tbody>\n",
       "</table>\n",
       "</div>"
      ],
      "text/plain": [
       "          일자|시간|구분  공급량\n",
       "0  2019-01-01 01 A    0\n",
       "1  2019-01-01 02 A    0\n",
       "2  2019-01-01 03 A    0\n",
       "3  2019-01-01 04 A    0\n",
       "4  2019-01-01 05 A    0"
      ]
     },
     "execution_count": 24,
     "metadata": {},
     "output_type": "execute_result"
    }
   ],
   "source": [
    "submission.head()"
   ]
  },
  {
   "cell_type": "code",
   "execution_count": 27,
   "id": "8b4011ca",
   "metadata": {
    "ExecuteTime": {
     "end_time": "2021-10-21T15:18:15.054798Z",
     "start_time": "2021-10-21T15:18:14.805967Z"
    }
   },
   "outputs": [],
   "source": [
    "test['일자'] = test['일자|시간|구분'].str.split(' ').str[0]\n",
    "test['시간'] = test['일자|시간|구분'].str.split(' ').str[1].astype(int)\n",
    "test['구분'] = test['일자|시간|구분'].str.split(' ').str[2]"
   ]
  },
  {
   "cell_type": "code",
   "execution_count": 29,
   "id": "77a2378b",
   "metadata": {
    "ExecuteTime": {
     "end_time": "2021-10-21T15:18:23.015771Z",
     "start_time": "2021-10-21T15:18:22.995361Z"
    }
   },
   "outputs": [],
   "source": [
    "test['일자'] = pd.to_datetime(test['일자'])\n",
    "test['year'] = test['일자'].dt.year\n",
    "test['month'] = test['일자'].dt.month\n",
    "test['day'] = test['일자'].dt.day\n",
    "test['weekday'] = test['일자'].dt.weekday"
   ]
  },
  {
   "cell_type": "code",
   "execution_count": 30,
   "id": "c85f3742",
   "metadata": {
    "ExecuteTime": {
     "end_time": "2021-10-21T15:18:27.037557Z",
     "start_time": "2021-10-21T15:18:27.025553Z"
    }
   },
   "outputs": [],
   "source": [
    "test['구분'] = test['구분'].map(d_map)"
   ]
  },
  {
   "cell_type": "code",
   "execution_count": 31,
   "id": "19be2915",
   "metadata": {
    "ExecuteTime": {
     "end_time": "2021-10-21T15:18:31.182216Z",
     "start_time": "2021-10-21T15:18:31.173216Z"
    }
   },
   "outputs": [],
   "source": [
    "test_x = test[features]"
   ]
  },
  {
   "cell_type": "code",
   "execution_count": 32,
   "id": "5b49aa80",
   "metadata": {
    "ExecuteTime": {
     "end_time": "2021-10-21T15:18:35.227096Z",
     "start_time": "2021-10-21T15:18:35.214098Z"
    }
   },
   "outputs": [
    {
     "data": {
      "text/html": [
       "<div>\n",
       "<style scoped>\n",
       "    .dataframe tbody tr th:only-of-type {\n",
       "        vertical-align: middle;\n",
       "    }\n",
       "\n",
       "    .dataframe tbody tr th {\n",
       "        vertical-align: top;\n",
       "    }\n",
       "\n",
       "    .dataframe thead th {\n",
       "        text-align: right;\n",
       "    }\n",
       "</style>\n",
       "<table border=\"1\" class=\"dataframe\">\n",
       "  <thead>\n",
       "    <tr style=\"text-align: right;\">\n",
       "      <th></th>\n",
       "      <th>구분</th>\n",
       "      <th>month</th>\n",
       "      <th>day</th>\n",
       "      <th>weekday</th>\n",
       "      <th>시간</th>\n",
       "    </tr>\n",
       "  </thead>\n",
       "  <tbody>\n",
       "    <tr>\n",
       "      <th>0</th>\n",
       "      <td>0</td>\n",
       "      <td>1</td>\n",
       "      <td>1</td>\n",
       "      <td>1</td>\n",
       "      <td>1</td>\n",
       "    </tr>\n",
       "    <tr>\n",
       "      <th>1</th>\n",
       "      <td>0</td>\n",
       "      <td>1</td>\n",
       "      <td>1</td>\n",
       "      <td>1</td>\n",
       "      <td>2</td>\n",
       "    </tr>\n",
       "    <tr>\n",
       "      <th>2</th>\n",
       "      <td>0</td>\n",
       "      <td>1</td>\n",
       "      <td>1</td>\n",
       "      <td>1</td>\n",
       "      <td>3</td>\n",
       "    </tr>\n",
       "    <tr>\n",
       "      <th>3</th>\n",
       "      <td>0</td>\n",
       "      <td>1</td>\n",
       "      <td>1</td>\n",
       "      <td>1</td>\n",
       "      <td>4</td>\n",
       "    </tr>\n",
       "    <tr>\n",
       "      <th>4</th>\n",
       "      <td>0</td>\n",
       "      <td>1</td>\n",
       "      <td>1</td>\n",
       "      <td>1</td>\n",
       "      <td>5</td>\n",
       "    </tr>\n",
       "    <tr>\n",
       "      <th>...</th>\n",
       "      <td>...</td>\n",
       "      <td>...</td>\n",
       "      <td>...</td>\n",
       "      <td>...</td>\n",
       "      <td>...</td>\n",
       "    </tr>\n",
       "    <tr>\n",
       "      <th>15115</th>\n",
       "      <td>6</td>\n",
       "      <td>3</td>\n",
       "      <td>31</td>\n",
       "      <td>6</td>\n",
       "      <td>20</td>\n",
       "    </tr>\n",
       "    <tr>\n",
       "      <th>15116</th>\n",
       "      <td>6</td>\n",
       "      <td>3</td>\n",
       "      <td>31</td>\n",
       "      <td>6</td>\n",
       "      <td>21</td>\n",
       "    </tr>\n",
       "    <tr>\n",
       "      <th>15117</th>\n",
       "      <td>6</td>\n",
       "      <td>3</td>\n",
       "      <td>31</td>\n",
       "      <td>6</td>\n",
       "      <td>22</td>\n",
       "    </tr>\n",
       "    <tr>\n",
       "      <th>15118</th>\n",
       "      <td>6</td>\n",
       "      <td>3</td>\n",
       "      <td>31</td>\n",
       "      <td>6</td>\n",
       "      <td>23</td>\n",
       "    </tr>\n",
       "    <tr>\n",
       "      <th>15119</th>\n",
       "      <td>6</td>\n",
       "      <td>3</td>\n",
       "      <td>31</td>\n",
       "      <td>6</td>\n",
       "      <td>24</td>\n",
       "    </tr>\n",
       "  </tbody>\n",
       "</table>\n",
       "<p>15120 rows × 5 columns</p>\n",
       "</div>"
      ],
      "text/plain": [
       "       구분  month  day  weekday  시간\n",
       "0       0      1    1        1   1\n",
       "1       0      1    1        1   2\n",
       "2       0      1    1        1   3\n",
       "3       0      1    1        1   4\n",
       "4       0      1    1        1   5\n",
       "...    ..    ...  ...      ...  ..\n",
       "15115   6      3   31        6  20\n",
       "15116   6      3   31        6  21\n",
       "15117   6      3   31        6  22\n",
       "15118   6      3   31        6  23\n",
       "15119   6      3   31        6  24\n",
       "\n",
       "[15120 rows x 5 columns]"
      ]
     },
     "execution_count": 32,
     "metadata": {},
     "output_type": "execute_result"
    }
   ],
   "source": [
    "test_x"
   ]
  },
  {
   "cell_type": "code",
   "execution_count": 33,
   "id": "fc87129e",
   "metadata": {
    "ExecuteTime": {
     "end_time": "2021-10-21T15:18:41.011368Z",
     "start_time": "2021-10-21T15:18:40.991367Z"
    }
   },
   "outputs": [],
   "source": [
    "preds = model.predict(test_x)"
   ]
  },
  {
   "cell_type": "code",
   "execution_count": 34,
   "id": "da55d106",
   "metadata": {
    "ExecuteTime": {
     "end_time": "2021-10-21T15:18:44.986832Z",
     "start_time": "2021-10-21T15:18:44.972828Z"
    }
   },
   "outputs": [],
   "source": [
    "submission['공급량'] = preds"
   ]
  },
  {
   "cell_type": "code",
   "execution_count": 38,
   "id": "847f1d23",
   "metadata": {
    "ExecuteTime": {
     "end_time": "2021-10-21T15:19:57.088638Z",
     "start_time": "2021-10-21T15:19:57.045707Z"
    }
   },
   "outputs": [],
   "source": [
    "submission.to_csv('baseline.csv', index=False)"
   ]
  },
  {
   "cell_type": "code",
   "execution_count": null,
   "id": "ab033106",
   "metadata": {},
   "outputs": [],
   "source": []
  }
 ],
 "metadata": {
  "kernelspec": {
   "display_name": "cv",
   "language": "python",
   "name": "cv"
  },
  "language_info": {
   "codemirror_mode": {
    "name": "ipython",
    "version": 3
   },
   "file_extension": ".py",
   "mimetype": "text/x-python",
   "name": "python",
   "nbconvert_exporter": "python",
   "pygments_lexer": "ipython3",
   "version": "3.9.7"
  },
  "toc": {
   "base_numbering": 1,
   "nav_menu": {},
   "number_sections": true,
   "sideBar": true,
   "skip_h1_title": false,
   "title_cell": "Table of Contents",
   "title_sidebar": "Contents",
   "toc_cell": false,
   "toc_position": {
    "height": "calc(100% - 180px)",
    "left": "10px",
    "top": "150px",
    "width": "384px"
   },
   "toc_section_display": true,
   "toc_window_display": true
  }
 },
 "nbformat": 4,
 "nbformat_minor": 5
}
